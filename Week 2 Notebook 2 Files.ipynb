{
 "cells": [
  {
   "cell_type": "markdown",
   "id": "292c0605",
   "metadata": {},
   "source": [
    "# Week 2 Notebook 2 Files\n",
    "\n",
    "## Overview\n",
    "\n",
    "The Python standard library contains many useful functions, including to read and write files. In this lesson we will cover:\n",
    "* how to open a file and read data from it\n",
    "* how to write text to a file"
   ]
  },
  {
   "cell_type": "markdown",
   "id": "de3c23b1",
   "metadata": {},
   "source": [
    "### Basic Directory Commands\n",
    "\n",
    "In Jupyter notebooks, you can use Unix commands in a cell as long as there is no Python code.\n",
    "`pwd` will show the present working directory."
   ]
  },
  {
   "cell_type": "code",
   "execution_count": 1,
   "id": "c3f472a0",
   "metadata": {},
   "outputs": [
    {
     "data": {
      "text/plain": [
       "'C:\\\\Users\\\\Administrator'"
      ]
     },
     "execution_count": 1,
     "metadata": {},
     "output_type": "execute_result"
    }
   ],
   "source": [
    "pwd"
   ]
  },
  {
   "cell_type": "markdown",
   "id": "107bd90b",
   "metadata": {},
   "source": [
    "You can use `ls` to **list** the contents of the present working directory."
   ]
  },
  {
   "cell_type": "code",
   "execution_count": 2,
   "id": "7cc9903d",
   "metadata": {},
   "outputs": [
    {
     "name": "stdout",
     "output_type": "stream",
     "text": [
      " Volume in drive C is WinToHDD\n",
      " Volume Serial Number is F205-8D66\n",
      "\n",
      " Directory of C:\\Users\\Administrator\n",
      "\n",
      "09/26/2023  06:34 PM    <DIR>          .\n",
      "09/26/2023  06:34 PM    <DIR>          ..\n",
      "09/26/2023  06:39 PM    <DIR>          .conda\n",
      "09/26/2023  05:58 PM                25 .condarc\n",
      "09/16/2023  08:57 PM    <DIR>          .continuum\n",
      "09/26/2023  06:07 PM    <DIR>          .ipynb_checkpoints\n",
      "09/19/2023  06:10 PM    <DIR>          .ipython\n",
      "09/20/2023  07:53 AM    <DIR>          .jupyter\n",
      "09/20/2023  09:26 AM    <DIR>          .matplotlib\n",
      "06/10/2023  02:51 PM    <DIR>          .ms-ad\n",
      "09/18/2023  02:28 PM    <DIR>          .nbi\n",
      "05/08/2023  10:02 AM    <DIR>          .vscode\n",
      "05/08/2023  10:04 AM    <DIR>          .vscode-cli\n",
      "05/04/2023  02:49 PM    <DIR>          1\n",
      "04/06/2023  09:10 PM    <DIR>          3D Objects\n",
      "09/16/2023  07:36 PM    <DIR>          anaconda3\n",
      "04/06/2023  09:10 PM    <DIR>          Contacts\n",
      "09/07/2023  05:10 PM    <DIR>          Desktop\n",
      "09/25/2023  01:41 PM    <DIR>          Documents\n",
      "09/26/2023  05:54 PM    <DIR>          Downloads\n",
      "04/06/2023  09:10 PM    <DIR>          Favorites\n",
      "05/04/2023  02:49 PM    <DIR>          folder\n",
      "05/04/2023  02:58 PM    <DIR>          folder1\n",
      "05/04/2023  02:50 PM    <DIR>          folderbaruu\n",
      "04/06/2023  09:10 PM    <DIR>          Links\n",
      "07/30/2023  11:04 PM    <DIR>          Music\n",
      "09/14/2023  10:35 AM    <DIR>          OneDrive\n",
      "06/08/2023  04:22 PM    <DIR>          Pictures\n",
      "05/08/2023  09:25 AM    <DIR>          PycharmProjects\n",
      "04/06/2023  09:10 PM    <DIR>          Saved Games\n",
      "04/06/2023  09:12 PM    <DIR>          Searches\n",
      "05/04/2023  03:33 PM    <DIR>          tes\n",
      "09/19/2023  08:32 PM             1,552 tugas_datascience.ipynb\n",
      "09/20/2023  09:59 AM    <DIR>          Untitled Folder\n",
      "07/05/2023  05:29 PM    <DIR>          Videos\n",
      "09/26/2023  06:31 PM            23,470 Week 2 Notebook 1 Collections.ipynb\n",
      "09/26/2023  06:34 PM            13,311 Week 2 Notebook 2 Files.ipynb\n",
      "09/26/2023  06:06 PM           175,021 Week 2 Notebook 3 Pandas Intro.ipynb\n",
      "09/26/2023  06:07 PM           159,261 Week 2 Notebook 4 Pandas Wrangling.ipynb\n",
      "09/26/2023  06:07 PM            24,331 Week 2 Notebook 5 Data Visualization.ipynb\n",
      "               7 File(s)        396,971 bytes\n",
      "              33 Dir(s)  103,147,462,656 bytes free\n"
     ]
    }
   ],
   "source": [
    "ls\n"
   ]
  },
  {
   "cell_type": "markdown",
   "id": "b7aecd58",
   "metadata": {},
   "source": [
    "In the same directory as this notebook file, you should have downloaded and saved a text file `13002.txt`, and it should appear in the listing of files above.\n",
    "\n",
    "If not, save it into this directory so that you can read it in easily.\n",
    "\n",
    "You can open the file using Jupyter, using the File->Open command in the menu above. You will find that it contains information about an invoice, written in plain text. Let's try to read in the data using Python."
   ]
  },
  {
   "cell_type": "markdown",
   "id": "3a4fccbf",
   "metadata": {},
   "source": [
    "## Reading Files\n"
   ]
  },
  {
   "cell_type": "markdown",
   "id": "88a09ec0",
   "metadata": {},
   "source": [
    "To access a file, you can just use the Python standard library function `open()`. \n",
    "\n",
    "The default mode is for reading."
   ]
  },
  {
   "cell_type": "code",
   "execution_count": 5,
   "id": "098f34c9",
   "metadata": {},
   "outputs": [
    {
     "ename": "SyntaxError",
     "evalue": "invalid syntax (3932964336.py, line 2)",
     "output_type": "error",
     "traceback": [
      "\u001b[1;36m  Cell \u001b[1;32mIn[5], line 2\u001b[1;36m\u001b[0m\n\u001b[1;33m    Week 2 = open('13002.txt')\u001b[0m\n\u001b[1;37m         ^\u001b[0m\n\u001b[1;31mSyntaxError\u001b[0m\u001b[1;31m:\u001b[0m invalid syntax\n"
     ]
    }
   ],
   "source": [
    "#open a file for reading, with default mode\n",
    "Week 2 = open('13002.txt')\n"
   ]
  },
  {
   "cell_type": "code",
   "execution_count": 14,
   "id": "48f5ae85",
   "metadata": {},
   "outputs": [
    {
     "ename": "NameError",
     "evalue": "name 'myfile' is not defined",
     "output_type": "error",
     "traceback": [
      "\u001b[1;31m---------------------------------------------------------------------------\u001b[0m",
      "\u001b[1;31mNameError\u001b[0m                                 Traceback (most recent call last)",
      "Cell \u001b[1;32mIn[14], line 1\u001b[0m\n\u001b[1;32m----> 1\u001b[0m \u001b[38;5;28mprint\u001b[39m(myfile)\n",
      "\u001b[1;31mNameError\u001b[0m: name 'myfile' is not defined"
     ]
    }
   ],
   "source": [
    "print(myfile)"
   ]
  },
  {
   "cell_type": "markdown",
   "id": "b7e57907",
   "metadata": {},
   "source": [
    "You can see that when we print `myfile`, it gives us the filename and the mode.\n",
    "\n",
    "To read the data from the file, you can use the `readline()` function on the object `myfile`."
   ]
  },
  {
   "cell_type": "code",
   "execution_count": null,
   "id": "b30ebb79",
   "metadata": {},
   "outputs": [],
   "source": [
    "# Execute this cell again to read another line\n",
    "mydataAsLines = myfile.readline()\n",
    "print(mydataAsLines)"
   ]
  },
  {
   "cell_type": "markdown",
   "id": "e689294e",
   "metadata": {},
   "source": [
    "As you can see, it has read one line of the data. If you run the line in the cell above again, you will see that it will read another line. If there are no more lines to read there will be no output.\n",
    "\n",
    "You can also read a specific number of characters (bytes) by using the `read()` function. "
   ]
  },
  {
   "cell_type": "code",
   "execution_count": null,
   "id": "cd486dc8",
   "metadata": {},
   "outputs": [],
   "source": [
    "# close the file before reopening \n",
    "myfile.close()\n",
    "\n",
    "# open the file again\n",
    "myfile = open('13002.txt', 'r')\n",
    "\n",
    "# read 4 characters. \n",
    "myfile.read(4)"
   ]
  },
  {
   "cell_type": "markdown",
   "id": "fc16b119",
   "metadata": {},
   "source": [
    "Try to change the argument value to read more characters. If the argument is -1 or left blank, the whole file will be read. "
   ]
  },
  {
   "cell_type": "code",
   "execution_count": null,
   "id": "aaac2d2e",
   "metadata": {},
   "outputs": [],
   "source": [
    "# close the file from the previous open\n",
    "myfile.close()\n",
    "\n",
    "# myfile.read() will read the whole file.\n",
    "myfile = open('13002.txt', 'r')\n",
    "myfile.read()\n",
    "\n",
    "# then close the file\n",
    "myfile.close()"
   ]
  },
  {
   "cell_type": "markdown",
   "id": "8f568936",
   "metadata": {},
   "source": [
    "You can see that the file is read as a single string, including the newline character, `\\n` at the end of each line. \n",
    "\n",
    "You can use the `print()` function to print out the string."
   ]
  },
  {
   "cell_type": "code",
   "execution_count": null,
   "id": "a201f6a2",
   "metadata": {},
   "outputs": [],
   "source": [
    "# myfile.read() will read the whole file.\n",
    "myfile = open('13002.txt', 'r')\n",
    "\n",
    "# using the print() function will print the string that is read\n",
    "print(myfile.read())\n",
    "\n",
    "myfile.close()"
   ]
  },
  {
   "cell_type": "markdown",
   "id": "251e0978",
   "metadata": {},
   "source": [
    "You can also read *all* the lines, using the `readlines()` function. This will store all the lines as elements of a list.\n"
   ]
  },
  {
   "cell_type": "code",
   "execution_count": null,
   "id": "0940fdb4",
   "metadata": {},
   "outputs": [],
   "source": [
    "# myfile.read() will read the whole file.\n",
    "myfile = open('13002.txt', 'r')\n",
    "\n",
    "# using the readlines() function. \n",
    "mydata = myfile.readlines()\n",
    "\n",
    "# This stores line as an element in a list.\n",
    "print(mydata)\n",
    "\n",
    "myfile.close()"
   ]
  },
  {
   "cell_type": "markdown",
   "id": "82d7a613",
   "metadata": {},
   "source": [
    "This time, the data is stored as a list, where the first element in index 0 is `'Invoice No: 13002\\n'`. \n",
    "\n",
    "You can also process each line of the file using a `for` loop."
   ]
  },
  {
   "cell_type": "code",
   "execution_count": null,
   "id": "3f29b7f7",
   "metadata": {},
   "outputs": [],
   "source": [
    "# open the file\n",
    "myfile = open('13002.txt', 'r')\n",
    "\n",
    "# process each line\n",
    "for line in myfile:\n",
    "    # separate the line at the colon\n",
    "    parts = line.split(\":\")\n",
    "    \n",
    "    # print the split parts \n",
    "    print(parts)\n",
    "    \n",
    "    # print only the data\n",
    "    print(parts[1])\n",
    "\n",
    "myfile.close()\n",
    "    "
   ]
  },
  {
   "cell_type": "markdown",
   "id": "52895c9d",
   "metadata": {},
   "source": [
    "## Writing to Files\n",
    "\n",
    "You can also open files for writing, using `mode = 'w'`. If the file does not exist, it will be created. "
   ]
  },
  {
   "cell_type": "code",
   "execution_count": null,
   "id": "0765a7c9",
   "metadata": {},
   "outputs": [],
   "source": [
    "#open a file for writing\n",
    "anotherfile= open('sample.txt', 'w')\n",
    "anotherfile.write('Invoice No: 13003\\n')\n",
    "anotherfile.close()\n"
   ]
  },
  {
   "cell_type": "markdown",
   "id": "f4933f02",
   "metadata": {},
   "source": [
    "Let's check the file contents by reading it.  "
   ]
  },
  {
   "cell_type": "code",
   "execution_count": null,
   "id": "fd4f2751",
   "metadata": {},
   "outputs": [],
   "source": [
    "anotherfile = open('sample.txt','r')\n",
    "print(anotherfile.readline())\n",
    "anotherfile.close()"
   ]
  },
  {
   "cell_type": "markdown",
   "id": "cd2b1748",
   "metadata": {},
   "source": [
    "However, if you open an existing file for writing again, the contents will be deleted."
   ]
  },
  {
   "cell_type": "code",
   "execution_count": null,
   "id": "3fb5fd7f",
   "metadata": {},
   "outputs": [],
   "source": [
    "# open the file for writing, again\n",
    "anotherfile= open('sample.txt', 'w')\n",
    "anotherfile.write('testing')\n",
    "anotherfile.close()"
   ]
  },
  {
   "cell_type": "code",
   "execution_count": null,
   "id": "5bdaf4c0",
   "metadata": {},
   "outputs": [],
   "source": [
    "# check the file contents again\n",
    "anotherfile = open('sample.txt','r')\n",
    "print(anotherfile.readline())\n",
    "anotherfile.close()"
   ]
  },
  {
   "cell_type": "markdown",
   "id": "6ced474d",
   "metadata": {},
   "source": [
    "### Appending Data\n",
    "\n",
    "If you do not want to overwrite an existing file, you can *append* lines to it. \n",
    "\n",
    "In order to append data to the file, we use `mode = 'a'`. This means that data will be added to the end of the file.\n",
    "\n",
    "Let's say we have an existing file, 'invoices.csv'. Let's read the file to check it's contents first.\n"
   ]
  },
  {
   "cell_type": "code",
   "execution_count": null,
   "id": "603cdd77",
   "metadata": {},
   "outputs": [],
   "source": [
    "# open the file for reading\n",
    "myfile = open('invoices.csv', 'r')\n",
    "print(myfile.read())\n",
    "myfile.close()"
   ]
  },
  {
   "cell_type": "markdown",
   "id": "c0d8e416",
   "metadata": {},
   "source": [
    "We will open the file to append, by setting the mode to 'a'. The file pointer will be set at the end of the file."
   ]
  },
  {
   "cell_type": "code",
   "execution_count": null,
   "id": "e0c3d07b",
   "metadata": {},
   "outputs": [],
   "source": [
    "# Open the file to append data\n",
    "myfile = open('invoices.csv', 'a')\n",
    "myfile.write('13005, Additional Row, 14 Jan 2020, $100.00\\n')\n",
    "myfile.close()"
   ]
  },
  {
   "cell_type": "markdown",
   "id": "17e4e6e0",
   "metadata": {},
   "source": [
    "You can open a file for a combination of reading and writing by specifying the mode. \n",
    "* `mode = 'r+'` opens the file for reading and writing, by setting the file pointer at the beginning of the file, ready to read.\n",
    "* `mode = 'a+'` opens the file for appending and reading, by setting the file pointer at the end of the file, ready for adding more data\n",
    "* `mode = 'w+'` opens the file for writing and reading, by setting the file pointer at the beginning of the file, ready to write and thus overwriting existing data.\n",
    "* `file.seek(0)` will set the pointer back to the beginning of the file."
   ]
  },
  {
   "cell_type": "code",
   "execution_count": null,
   "id": "6ba055db",
   "metadata": {},
   "outputs": [],
   "source": [
    "#open the file again, this time to read and write.\n",
    "# mode = 'r+' will start with the file handle at the beginning of the file, \n",
    "# so that you can read first\n",
    "# open with mode = 'r+' will point at the beginning of the file\n",
    "myfile = open('invoices.csv', 'r+')\n",
    "\n",
    "# read the file and print its contents\n",
    "print('Before appending new data')\n",
    "print(myfile.read())\n",
    "\n",
    "# write one more row\n",
    "myfile.write('13005, One more row, 15 Jan 2020, $250.30\\n')\n",
    "\n",
    "# go back to the beginning of the file\n",
    "myfile.seek(0)\n",
    "\n",
    "# read again\n",
    "print('After appending new data')\n",
    "print(myfile.read())\n",
    "\n",
    "myfile.close()\n"
   ]
  },
  {
   "cell_type": "markdown",
   "id": "d51d3e0a",
   "metadata": {},
   "source": [
    "## Exercise\n",
    "\n",
    "Write the code to open the 'invoices.csv' file for reading, and then print only the heading 'Invoice No' and the data for the invoice numbers.\n",
    "\n",
    "Use the following comments to guide you"
   ]
  },
  {
   "cell_type": "code",
   "execution_count": 16,
   "id": "57fbc0fb",
   "metadata": {},
   "outputs": [
    {
     "name": "stdout",
     "output_type": "stream",
     "text": [
      "['Invoice No, Customer Name, Date, Invoice Amount\\n', '13002, Lighthouse Entertainment, 13 Jan 2020, $45.60\\n', '13003, Main Street News, 13 Jan 2020, $100.20\\n', '13003, Lee Enterprise, 14 Jan 2020, $30.00\\n', '13004, Raju Store, 14 Jan 2020, $300.20\\n']\n",
      "Invoice No\n",
      "13002\n",
      "13003\n",
      "13003\n",
      "13004\n"
     ]
    }
   ],
   "source": [
    "# open the file for reading\n",
    "myfiles =open (\"invoices.csv\")\n",
    "\n",
    "# read all the lines\n",
    "mydata = myfiles.readlines()\n",
    "\n",
    "# This stores line as an element in a list.\n",
    "print(mydata)\n",
    "\n",
    "# header is the first element in the list of lines\n",
    "header = mydata[0]\n",
    "\n",
    "# use a split() function to separate the header names by the comma\n",
    "header_names = header.split(\",\")\n",
    "\n",
    "# print the first element of the header names after splitting\n",
    "print(header_names[0])\n",
    "\n",
    "# use a for loop (with a slice starting at index 1) for the rest of the lines\n",
    "for line in mydata[1:]:\n",
    "    # split at the comma\n",
    "     parts = line.split(\",\")\n",
    "    \n",
    "    # print the first element\n",
    "     print(parts[0]) \n",
    "    \n",
    "# close the file\n"
   ]
  },
  {
   "cell_type": "markdown",
   "id": "071d6725",
   "metadata": {},
   "source": [
    "Being able to extract just the invoice numbers is useful, because it will help us to keep track of the running number.\n",
    "\n",
    "In this lesson, we have learned how to read and write from files. However, there are many data science libraries that have simplified these operations, and we will make use of the pandas library to read CSV files.\n",
    "\n"
   ]
  }
 ],
 "metadata": {
  "kernelspec": {
   "display_name": "Python 3 (ipykernel)",
   "language": "python",
   "name": "python3"
  },
  "language_info": {
   "codemirror_mode": {
    "name": "ipython",
    "version": 3
   },
   "file_extension": ".py",
   "mimetype": "text/x-python",
   "name": "python",
   "nbconvert_exporter": "python",
   "pygments_lexer": "ipython3",
   "version": "3.11.4"
  }
 },
 "nbformat": 4,
 "nbformat_minor": 5
}
